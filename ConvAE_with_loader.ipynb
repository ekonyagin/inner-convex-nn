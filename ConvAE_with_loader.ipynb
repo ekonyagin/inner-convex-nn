{
 "cells": [
  {
   "cell_type": "code",
   "execution_count": null,
   "metadata": {},
   "outputs": [],
   "source": [
    "# imports\n",
    "import os\n",
    "from torch.utils.data import DataLoader\n",
    "from torch.autograd import Variable\n",
    "from torchvision.utils import make_grid\n",
    "from torchvision.utils import save_image\n",
    "from torchvision.datasets import ImageFolder\n",
    "from torchvision import transforms\n",
    "import torchvision.datasets as dset\n",
    "import torchvision\n",
    "from sklearn.metrics import accuracy_score\n",
    "import sklearn\n",
    "import torch.utils.data as torch_data\n",
    "import torch.nn as nn\n",
    "from sklearn.model_selection import train_test_split\n",
    "import pandas as pd\n",
    "import numpy as np\n",
    "from sklearn.datasets import load_digits\n",
    "import torch\n",
    "import matplotlib.pyplot as plt\n",
    "import torch.nn.functional as F\n",
    "\n",
    "from tqdm.notebook import tqdm\n",
    "%matplotlib inline"
   ]
  },
  {
   "cell_type": "code",
   "execution_count": null,
   "metadata": {},
   "outputs": [],
   "source": [
    "from poslayers.poslayers import Dense, PosDense, PosConv2d"
   ]
  },
  {
   "cell_type": "code",
   "execution_count": null,
   "metadata": {},
   "outputs": [],
   "source": [
    "from vae.vanila_vae import *"
   ]
  },
  {
   "cell_type": "markdown",
   "metadata": {},
   "source": [
    "# Simple ConvAE"
   ]
  },
  {
   "cell_type": "code",
   "execution_count": null,
   "metadata": {},
   "outputs": [],
   "source": [
    "IMAGE_SIZE = 64 * 64\n",
    "IMAGE_WIDTH = IMAGE_HEIGHT = 64\n",
    "INPUT_CHANNELS = 3\n",
    "DATA_PATH = r'./data/celeba/'"
   ]
  },
  {
   "cell_type": "code",
   "execution_count": null,
   "metadata": {},
   "outputs": [],
   "source": [
    "from torch.utils.data import random_split\n",
    "\n",
    "transform = transforms.Compose([\n",
    "    transforms.Resize((64, 64)),\n",
    "    transforms.ToTensor(),\n",
    "    transforms.Normalize((0.5, 0.5, 0.5), (0.5, 0.5, 0.5))\n",
    "])\n",
    "\n",
    "dataset = ImageFolder(DATA_PATH, transform=transform)\n",
    "\n",
    "# for dataset reduction\n",
    "# dataset, _ = random_split(\n",
    "#     dataset, (int(len(dataset) * 0.01), len(dataset) - int(len(dataset) * 0.01)))\n",
    "\n",
    "train_size = int(len(dataset) * 0.8)\n",
    "val_size = len(dataset) - train_size\n",
    "train_data, val_data = random_split(dataset, (train_size, val_size))\n",
    "\n",
    "\n",
    "train_loader = DataLoader(dataset=train_data, batch_size=128,\n",
    "                          shuffle=True, num_workers=4, drop_last=True)\n",
    "val_loader = DataLoader(dataset=val_data, batch_size=128,\n",
    "                        shuffle=True, num_workers=4, drop_last=True)"
   ]
  },
  {
   "cell_type": "code",
   "execution_count": null,
   "metadata": {},
   "outputs": [],
   "source": [
    "#primitive one\n",
    "class AutoEncoder(nn.Module):\n",
    "    \n",
    "    def __init__(self, code_size):\n",
    "        super().__init__()\n",
    "        self.code_size = code_size\n",
    "        \n",
    "        # Encoder specification\n",
    "        self.enc_cnn_1 = nn.Conv2d(INPUT_CHANNELS, 5, kernel_size=5)\n",
    "        self.enc_cnn_2 = nn.Conv2d(5, 10, kernel_size=5)\n",
    "        self.enc_linear_1 = nn.Linear(10 * 13 * 13, 800)\n",
    "        self.enc_linear_2 = nn.Linear(800, self.code_size)\n",
    "        \n",
    "        # Decoder specification\n",
    "        self.dec_linear_1 = nn.Linear(self.code_size, 4000)\n",
    "        self.dec_linear_2 = nn.Linear(4000, IMAGE_SIZE * INPUT_CHANNELS)\n",
    "        \n",
    "    def forward(self, images):\n",
    "        code = self.encode(images)\n",
    "        out = self.decode(code)\n",
    "        return out, code\n",
    "    \n",
    "    def encode(self, images):\n",
    "        code = self.enc_cnn_1(images)\n",
    "        code = F.selu(F.max_pool2d(code, 2))\n",
    "        \n",
    "        code = self.enc_cnn_2(code)\n",
    "        code = F.selu(F.max_pool2d(code, 2))\n",
    "        \n",
    "        code = code.view([images.size(0), -1])\n",
    "        code = F.selu(self.enc_linear_1(code))\n",
    "        code = self.enc_linear_2(code)\n",
    "        return code\n",
    "    \n",
    "    def decode(self, code):\n",
    "        out = F.selu(self.dec_linear_1(code))\n",
    "        out = F.selu(self.dec_linear_2(out))\n",
    "        out = out.view([code.size(0), INPUT_CHANNELS, IMAGE_WIDTH, IMAGE_HEIGHT])\n",
    "        return out"
   ]
  },
  {
   "cell_type": "code",
   "execution_count": null,
   "metadata": {},
   "outputs": [],
   "source": [
    "# advanced one\n",
    "class AutoEncoder(nn.Module):\n",
    "    \n",
    "    def __init__(self, code_size):\n",
    "        super().__init__()\n",
    "        self.code_size = code_size\n",
    "        \n",
    "        # Encoder specification\n",
    "        self.enc_cnn_1 = nn.Conv2d(INPUT_CHANNELS, 5, kernel_size=5) # -> (-4, -4) / 2\n",
    "        self.enc_cnn_2 = nn.Conv2d(5, 10, kernel_size=5) # -> (-4, -4) / 2\n",
    "        self.imdim = ((IMAGE_WIDTH - 4) // 2 - 4) // 2\n",
    "        self.enc_linear_1 = nn.Linear(10 * self.imdim * self.imdim, 800)\n",
    "        self.enc_linear_2 = nn.Linear(800, self.code_size)\n",
    "        \n",
    "        # Decoder specification\n",
    "        self.dec_linear_1 = nn.Linear(self.code_size, 800)\n",
    "        self.dec_linear_2 = nn.Linear(800, 10 * self.imdim * self.imdim)\n",
    "        \n",
    "        self.dec_up1 = nn.UpsamplingNearest2d(scale_factor=2)\n",
    "        self.dec_cnn_1 = nn.ConvTranspose2d(10, 5, kernel_size=5)\n",
    "        \n",
    "        self.dec_up2 = nn.UpsamplingNearest2d(scale_factor=2)\n",
    "        self.dec_cnn_2 = nn.ConvTranspose2d(5, INPUT_CHANNELS, kernel_size=5)\n",
    "        \n",
    "    def forward(self, images):\n",
    "        code = self.encode(images)\n",
    "        out = self.decode(code)\n",
    "        return out, code\n",
    "    \n",
    "    def encode(self, images):\n",
    "        code = self.enc_cnn_1(images)\n",
    "        code = F.relu(F.max_pool2d(code, 2))\n",
    "        \n",
    "        code = self.enc_cnn_2(code)\n",
    "        code = F.relu(F.max_pool2d(code, 2))\n",
    "        \n",
    "        code = code.view([images.size(0), -1])\n",
    "        code = F.relu(self.enc_linear_1(code))\n",
    "        code = self.enc_linear_2(code)\n",
    "        return code\n",
    "    \n",
    "    def decode(self, code):\n",
    "        out = F.relu(self.dec_linear_1(code))\n",
    "        out = F.relu(self.dec_linear_2(out))\n",
    "        out = out.view([-1, 10, self.imdim, self.imdim])\n",
    "        out = self.dec_up1(out)\n",
    "        out = F.relu(self.dec_cnn_1(out))\n",
    "        out = self.dec_up2(out)\n",
    "        out = F.relu(self.dec_cnn_2(out))\n",
    "        out = out.view([-1, INPUT_CHANNELS, IMAGE_WIDTH, IMAGE_HEIGHT])\n",
    "        return out"
   ]
  },
  {
   "cell_type": "code",
   "execution_count": null,
   "metadata": {},
   "outputs": [],
   "source": [
    "# Hyperparameters\n",
    "code_size = 500\n",
    "num_epochs = 5\n",
    "batch_size = 64\n",
    "lr = 0.005\n",
    "\n",
    "\n",
    "device = 'cpu'\n",
    "net = AutoEncoder(code_size=code_size)#.to(device)\n",
    "criterion = nn.MSELoss()#.to(device)\n",
    "optimizer = optim.Adam(net.parameters())"
   ]
  },
  {
   "cell_type": "code",
   "execution_count": null,
   "metadata": {},
   "outputs": [],
   "source": [
    "def train_ae(epochs, net, criterion, optimizer,\n",
    "             scheduler=None, verbose=True, save_dir=None, device=0):\n",
    "    for epoch in (range(1, epochs + 1)):\n",
    "        train_loss = []\n",
    "        net.train()\n",
    "        for X, _ in (train_loader):\n",
    "            X = X#.to(device)\n",
    "            out, code = net(X)\n",
    "            optimizer.zero_grad()\n",
    "            loss = criterion(out, X)\n",
    "            train_loss.append(loss.item())\n",
    "            loss.backward()\n",
    "            optimizer.step()\n",
    "        \n",
    "        \n",
    "        val_loss = []\n",
    "        net.eval()\n",
    "        for X, _ in val_loader:\n",
    "            X = X#.to(device)\n",
    "            out, code = net(X)\n",
    "            optimizer.zero_grad()\n",
    "            loss = criterion(out, X)\n",
    "            val_loss.append(loss.item())\n",
    "            loss.backward()\n",
    "            optimizer.step()\n",
    "         \n",
    "        if scheduler is not None:\n",
    "            scheduler.step()\n",
    "        freq = 1\n",
    "        if verbose and epoch%freq==0:\n",
    "            print('Epoch {}/{} || Loss:  Train {:.4f} | Validation {:.4f}'.format(epoch, epochs, np.mean(train_loss), np.mean(val_loss)))\n",
    "            "
   ]
  },
  {
   "cell_type": "code",
   "execution_count": null,
   "metadata": {
    "scrolled": true
   },
   "outputs": [],
   "source": [
    "train_ae(20, net, criterion, optimizer, \n",
    "         scheduler=None, verbose=True, save_dir=None, device=1)"
   ]
  },
  {
   "cell_type": "code",
   "execution_count": null,
   "metadata": {},
   "outputs": [],
   "source": []
  },
  {
   "cell_type": "code",
   "execution_count": null,
   "metadata": {},
   "outputs": [],
   "source": []
  }
 ],
 "metadata": {
  "kernelspec": {
   "display_name": "Python 3",
   "language": "python",
   "name": "python3"
  },
  "language_info": {
   "codemirror_mode": {
    "name": "ipython",
    "version": 3
   },
   "file_extension": ".py",
   "mimetype": "text/x-python",
   "name": "python",
   "nbconvert_exporter": "python",
   "pygments_lexer": "ipython3",
   "version": "3.7.6"
  },
  "toc": {
   "base_numbering": 1,
   "nav_menu": {},
   "number_sections": true,
   "sideBar": true,
   "skip_h1_title": false,
   "title_cell": "Table of Contents",
   "title_sidebar": "Contents",
   "toc_cell": false,
   "toc_position": {},
   "toc_section_display": true,
   "toc_window_display": false
  },
  "varInspector": {
   "cols": {
    "lenName": 16,
    "lenType": 16,
    "lenVar": 40
   },
   "kernels_config": {
    "python": {
     "delete_cmd_postfix": "",
     "delete_cmd_prefix": "del ",
     "library": "var_list.py",
     "varRefreshCmd": "print(var_dic_list())"
    },
    "r": {
     "delete_cmd_postfix": ") ",
     "delete_cmd_prefix": "rm(",
     "library": "var_list.r",
     "varRefreshCmd": "cat(var_dic_list()) "
    }
   },
   "types_to_exclude": [
    "module",
    "function",
    "builtin_function_or_method",
    "instance",
    "_Feature"
   ],
   "window_display": false
  }
 },
 "nbformat": 4,
 "nbformat_minor": 2
}
